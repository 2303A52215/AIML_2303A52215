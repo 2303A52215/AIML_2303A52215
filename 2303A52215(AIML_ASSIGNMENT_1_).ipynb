{
  "cells": [
    {
      "cell_type": "markdown",
      "metadata": {
        "id": "LV3_FWsuwJA4"
      },
      "source": [
        "\n",
        "𝐋𝐚𝐛𝟎𝟏- 𝐈𝐦𝐩𝐥𝐞𝐦𝐞𝐧𝐭 𝐛𝐚𝐬𝐢𝐜 𝐝𝐚𝐭𝐚 𝐬𝐭𝐫𝐮𝐜𝐭𝐮𝐫𝐞𝐬 𝐨𝐟 𝐍𝐮𝐦𝐩𝐲, 𝐏𝐚𝐧𝐝𝐚𝐬, 𝐌𝐚𝐭𝐩𝐥𝐨𝐭𝐥𝐢𝐛 𝐚𝐧𝐝 𝐀𝐜𝐜𝐞𝐬𝐬 𝐃𝐚𝐭𝐚 𝐟𝐫𝐨𝐦 𝐬𝐨𝐮𝐫𝐜𝐞𝐬.\n",
        "\n",
        "𝐏𝐚𝐫𝐭 𝟎𝟏: 𝐋𝐚𝐛 𝐓𝐚𝐬𝐤 𝐢𝐬 𝐢𝐦𝐩𝐥𝐞𝐦𝐞𝐧𝐭 𝐭𝐡𝐞 𝐟𝐨𝐥𝐥𝐨𝐰𝐢𝐧𝐠 𝐝𝐚𝐭𝐚 𝐬𝐭𝐫𝐮𝐜𝐭𝐮𝐫𝐞𝐬 𝐮𝐬𝐢𝐧𝐠 𝐍𝐮𝐦𝐩𝐲 𝐚𝐧𝐝 𝐏𝐚𝐧𝐝𝐚𝐬.\n",
        "\n",
        "𝟏.𝐋𝐢𝐬𝐭𝐬\n",
        "\n",
        "𝟐.𝐀𝐫𝐫𝐚𝐲𝐬\n",
        "\n",
        "𝟑.𝐈𝐝𝐞𝐧𝐭𝐢𝐟𝐲 𝐭𝐡𝐞𝐢𝐫 𝐭𝐲𝐩𝐞 𝐮𝐬𝐢𝐧𝐠 𝐭𝐲𝐩𝐞()\n",
        "\n",
        "𝟒.𝐏𝐞𝐫𝐟𝐨𝐫𝐦 𝐦𝐚𝐭𝐡𝐞𝐦𝐚𝐭𝐢𝐜𝐚𝐥 𝐨𝐩𝐞𝐫𝐚𝐭𝐢𝐨𝐧𝐬 𝐨𝐧 𝐭𝐡𝐞𝐬𝐞 𝐝𝐚𝐭𝐚𝐬𝐞𝐭𝐬 𝐜𝐫𝐞𝐚𝐭𝐞𝐝 - 𝐦𝐮𝐥𝐭𝐢𝐩𝐥𝐢𝐜𝐚𝐭𝐢𝐨𝐧, 𝐝𝐢𝐯𝐢𝐬𝐢𝐨𝐧, 𝐩𝐨𝐰𝐞𝐫𝐨𝐟𝐟\n",
        "\n",
        "𝟓.𝐂𝐨𝐦𝐛𝐢𝐧𝐞 𝐭𝐞𝐱𝐭 𝐰𝐢𝐭𝐡 𝐍𝐮𝐦𝐩𝐲 𝐟𝐮𝐜𝐭𝐢𝐨𝐧 𝐭𝐨 𝐠𝐞𝐧𝐞𝐫𝐚𝐭𝐞 𝐚 𝐭𝐞𝐱𝐭𝐮𝐚𝐥 𝐨𝐮𝐭𝐩𝐮𝐭 - ”𝐀𝐝𝐝𝐢𝐭𝐢𝐨𝐧 𝐨𝐟 𝐓𝐰𝐨: 𝐚𝐫𝐫𝐚𝐲𝟏 +𝐚𝐫𝐫𝐚𝐲 𝟐\n",
        "\n",
        "𝟔.𝐈𝐦𝐩𝐥𝐞𝐦𝐞𝐧𝐭 𝐧𝐩.𝐬𝐢𝐧(), 𝐥𝐨𝐠(), 𝐥𝐨𝐠𝟐(), 𝐧𝐩.𝐞𝐱𝐩())"
      ]
    },
    {
      "cell_type": "markdown",
      "metadata": {
        "id": "EzM39FoDwu5T"
      },
      "source": [
        "**1. Create Lists and Arrays**"
      ]
    },
    {
      "cell_type": "code",
      "execution_count": null,
      "metadata": {
        "colab": {
          "base_uri": "https://localhost:8080/"
        },
        "id": "B3ANkZbyw2EN",
        "outputId": "9531b87c-0a2a-4774-a1c7-32763b603da8"
      },
      "outputs": [
        {
          "name": "stdout",
          "output_type": "stream",
          "text": [
            "List: [4, 5, 6]\n",
            "Type of list_a: <class 'list'>\n",
            "Numpy Array: [4 5 6]\n",
            "Type of array_a: <class 'numpy.ndarray'>\n"
          ]
        }
      ],
      "source": [
        "import numpy as np\n",
        "import pandas as pd\n",
        "\n",
        "# Creating a list\n",
        "list_a = [4, 5, 6]\n",
        "print(\"List:\", list_a)\n",
        "print(\"Type of list_a:\", type(list_a))\n",
        "\n",
        "# Converting the list to a numpy array\n",
        "array_a = np.array(list_a)\n",
        "print(\"Numpy Array:\", array_a)\n",
        "print(\"Type of array_a:\", type(array_a))\n"
      ]
    },
    {
      "cell_type": "markdown",
      "metadata": {
        "id": "LnVjo9QoxCyk"
      },
      "source": [
        "**2. Perform Mathematical Operations on These Datasets**"
      ]
    },
    {
      "cell_type": "code",
      "execution_count": null,
      "metadata": {
        "colab": {
          "base_uri": "https://localhost:8080/"
        },
        "id": "1XdDq_QqxFIL",
        "outputId": "0958a316-27fd-4bf3-acb7-8025138f5b3a"
      },
      "outputs": [
        {
          "name": "stdout",
          "output_type": "stream",
          "text": [
            "Multiplication: [28 40 54]\n",
            "Division: [0.57142857 0.625      0.66666667]\n",
            "Exponentiation: [   16384   390625 10077696]\n"
          ]
        }
      ],
      "source": [
        "# Creating another list and converting it to a numpy array\n",
        "list_b = [7, 8, 9]\n",
        "array_b = np.array(list_b)\n",
        "\n",
        "# Multiplication\n",
        "product = array_a * array_b\n",
        "print(\"Multiplication:\", product)\n",
        "\n",
        "# Division\n",
        "quotient = array_a / array_b\n",
        "print(\"Division:\", quotient)\n",
        "\n",
        "# Poweroff (Exponentiation)\n",
        "exponent = array_a ** array_b\n",
        "print(\"Exponentiation:\", exponent)\n"
      ]
    },
    {
      "cell_type": "markdown",
      "metadata": {
        "id": "nByDaqmcxKFY"
      },
      "source": [
        "**3. Combine Text with Numpy Function to Generate a Textual Output**"
      ]
    },
    {
      "cell_type": "code",
      "execution_count": null,
      "metadata": {
        "colab": {
          "base_uri": "https://localhost:8080/"
        },
        "id": "XFbkYjHgxOTw",
        "outputId": "d7b899ef-8d15-43cb-de0f-8a2f42348a57"
      },
      "outputs": [
        {
          "name": "stdout",
          "output_type": "stream",
          "text": [
            "Adding two numpy arrays [4 5 6] and [7 8 9] together: [11 13 15]\n"
          ]
        }
      ],
      "source": [
        "# Addition of two arrays\n",
        "sum_array = array_a + array_b\n",
        "print(f\"Adding two numpy arrays {array_a} and {array_b} together: {sum_array}\")\n"
      ]
    },
    {
      "cell_type": "markdown",
      "metadata": {
        "id": "8ku1WEwjxXZr"
      },
      "source": [
        "**4. Implement np.sin(), np.log(), np.log2(), np.exp()**"
      ]
    },
    {
      "cell_type": "code",
      "execution_count": null,
      "metadata": {
        "colab": {
          "base_uri": "https://localhost:8080/"
        },
        "id": "32Q0cEENxZdH",
        "outputId": "aba51d48-154f-434a-bbd5-7014ceb6dec0"
      },
      "outputs": [
        {
          "name": "stdout",
          "output_type": "stream",
          "text": [
            "Sine values: [-0.7568025  -0.95892427 -0.2794155 ]\n",
            "Natural Logarithm values: [1.38629436 1.60943791 1.79175947]\n",
            "Base-2 Logarithm values: [2.         2.32192809 2.5849625 ]\n",
            "Exponential values: [ 54.59815003 148.4131591  403.42879349]\n"
          ]
        }
      ],
      "source": [
        "# Applying numpy functions\n",
        "sine_values = np.sin(array_a)\n",
        "logarithm_values = np.log(array_a)\n",
        "log2_values = np.log2(array_a)\n",
        "exponential_values = np.exp(array_a)\n",
        "\n",
        "print(\"Sine values:\", sine_values)\n",
        "print(\"Natural Logarithm values:\", logarithm_values)\n",
        "print(\"Base-2 Logarithm values:\", log2_values)\n",
        "print(\"Exponential values:\", exponential_values)\n"
      ]
    },
    {
      "cell_type": "markdown",
      "metadata": {
        "id": "nXUCTRSWxb-U"
      },
      "source": [
        "𝐏𝐚𝐫𝐭 𝟎𝟐: 𝐕𝐢𝐬𝐮𝐚𝐥𝐢𝐳𝐞 𝐭𝐡𝐞 𝐃𝐚𝐭𝐚𝐬𝐞𝐭𝐬 𝐔𝐬𝐢𝐧𝐠 𝐌𝐚𝐭𝐩𝐥𝐨𝐭𝐥𝐢𝐛"
      ]
    },
    {
      "cell_type": "markdown",
      "metadata": {
        "id": "Mlf1A54GxluD"
      },
      "source": [
        "**Generate Scatter Plot**"
      ]
    },
    {
      "cell_type": "code",
      "execution_count": null,
      "metadata": {
        "colab": {
          "base_uri": "https://localhost:8080/",
          "height": 472
        },
        "id": "Y2cLi8lExron",
        "outputId": "e27964f8-79ee-4b00-ffe0-1818afbf72a6"
      },
      "outputs": [
        {
          "data": {
            "image/png": "[encoded data removed]",
            "text/plain": [
              "<Figure size 640x480 with 1 Axes>"
            ]
          },
          "metadata": {},
          "output_type": "display_data"
        }
      ],
      "source": [
        "import matplotlib.pyplot as plt\n",
        "\n",
        "# Data for the scatter plot\n",
        "students = ['Alice', 'Bob', 'Charlie', 'David', 'Eve', 'Frank', 'Grace', 'Hank', 'Ivy', 'Jack', 'Kevin', 'Lily']\n",
        "grades = [85, 90, 88, 92, 79, 85, 87, 94, 78, 81, 89, 93]\n",
        "study_hours = [8, 9, 8.5, 9.5, 7, 8, 8.2, 9.6, 7.5, 8.1, 8.8, 9.3]\n",
        "\n",
        "# Scatter plot\n",
        "plt.scatter(grades, study_hours)\n",
        "plt.title(\"Relationship between Grades and Study Hours\")\n",
        "plt.xlabel(\"Grades\")\n",
        "plt.ylabel(\"Study Hours\")\n",
        "plt.show()\n"
      ]
    },
    {
      "cell_type": "markdown",
      "metadata": {
        "id": "vhDfxQZOxuSR"
      },
      "source": [
        "**Generate Bar Plot**"
      ]
    },
    {
      "cell_type": "code",
      "execution_count": null,
      "metadata": {
        "colab": {
          "base_uri": "https://localhost:8080/",
          "height": 455
        },
        "id": "co0RN3vnx0gc",
        "outputId": "587aaa7c-e6c6-4813-ab7e-c5b1b739282c"
      },
      "outputs": [
        {
          "data": {
            "image/png": "[encoded data removed]",
            "text/plain": [
              "<Figure size 1200x400 with 1 Axes>"
            ]
          },
          "metadata": {},
          "output_type": "display_data"
        }
      ],
      "source": [
        "# Bar plot\n",
        "plt.figure(figsize=(12, 4))\n",
        "plt.title(\"Students' Grades\", fontsize=16, fontstyle='italic')\n",
        "\n",
        "plt.bar(x=students, height=grades, width=0.6, color='blue', edgecolor='k', alpha=0.6)\n",
        "plt.xlabel(\"Students\", fontsize=15)\n",
        "plt.xticks(fontsize=14, rotation=30)\n",
        "plt.yticks(fontsize=14)\n",
        "plt.ylabel(\"Grades\", fontsize=15)\n",
        "plt.show()\n"
      ]
    },
    {
      "cell_type": "markdown",
      "metadata": {
        "id": "qt-8OBNsx3FN"
      },
      "source": [
        "**Generate Histogram**"
      ]
    },
    {
      "cell_type": "code",
      "execution_count": null,
      "metadata": {
        "colab": {
          "base_uri": "https://localhost:8080/",
          "height": 504
        },
        "id": "vLZfaVU5x8xi",
        "outputId": "38f5efd9-11af-4bab-e93d-f1a4b04fe894"
      },
      "outputs": [
        {
          "data": {
            "image/png": "[encoded data removed]",
            "text/plain": [
              "<Figure size 700x500 with 1 Axes>"
            ]
          },
          "metadata": {},
          "output_type": "display_data"
        }
      ],
      "source": [
        "# Histogram\n",
        "plt.figure(figsize=(7, 5))\n",
        "\n",
        "plt.hist(grades, color='green', edgecolor='k', alpha=0.75, bins=5)\n",
        "plt.title(\"Histogram of Student Grades\", fontsize=18)\n",
        "plt.xlabel(\"Grades\", fontsize=15)\n",
        "plt.xticks(fontsize=15)\n",
        "plt.yticks(fontsize=15)\n",
        "plt.show()\n"
      ]
    },
    {
      "cell_type": "markdown",
      "metadata": {
        "id": "2dJiuIbsyAOD"
      },
      "source": [
        "𝐏𝐚𝐫𝐭 𝟎𝟑: 𝐀𝐜𝐜𝐞𝐬𝐬 𝐃𝐚𝐭𝐚 𝐟𝐫𝐨𝐦 𝐕𝐚𝐫𝐢𝐨𝐮𝐬 𝐒𝐨𝐮𝐫𝐜𝐞𝐬 𝐚𝐧𝐝 𝐅𝐨𝐫𝐦𝐚𝐭𝐬"
      ]
    },
    {
      "cell_type": "markdown",
      "metadata": {
        "id": "hDthjMZcyId9"
      },
      "source": [
        "**Read Data from Text, CSV, and Excel Files**"
      ]
    },
    {
      "cell_type": "code",
      "execution_count": 1,
      "metadata": {
        "colab": {
          "base_uri": "https://localhost:8080/",
          "height": 342
        },
        "id": "U5s22kl-ydKf",
        "outputId": "b2cfb422-634e-4264-cd2f-37d5e05b41f0"
      },
      "outputs": [
        {
          "output_type": "display_data",
          "data": {
            "text/plain": [
              "<IPython.core.display.HTML object>"
            ],
            "text/html": [
              "\n",
              "     <input type=\"file\" id=\"files-1621c029-cd6a-4099-966a-73d0a3d691a4\" name=\"files[]\" multiple disabled\n",
              "        style=\"border:none\" />\n",
              "     <output id=\"result-1621c029-cd6a-4099-966a-73d0a3d691a4\">\n",
              "      Upload widget is only available when the cell has been executed in the\n",
              "      current browser session. Please rerun this cell to enable.\n",
              "      </output>\n",
              "      <script>// Copyright 2017 Google LLC\n",
              "//\n",
              "// Licensed under the Apache License, Version 2.0 (the \"License\");\n",
              "// you may not use this file except in compliance with the License.\n",
              "// You may obtain a copy of the License at\n",
              "//\n",
              "//      http://www.apache.org/licenses/LICENSE-2.0\n",
              "//\n",
              "// Unless required by applicable law or agreed to in writing, software\n",
              "// distributed under the License is distributed on an \"AS IS\" BASIS,\n",
              "// WITHOUT WARRANTIES OR CONDITIONS OF ANY KIND, either express or implied.\n",
              "// See the License for the specific language governing permissions and\n",
              "// limitations under the License.\n",
              "\n",
              "/**\n",
              " * @fileoverview Helpers for google.colab Python module.\n",
              " */\n",
              "(function(scope) {\n",
              "function span(text, styleAttributes = {}) {\n",
              "  const element = document.createElement('span');\n",
              "  element.textContent = text;\n",
              "  for (const key of Object.keys(styleAttributes)) {\n",
              "    element.style[key] = styleAttributes[key];\n",
              "  }\n",
              "  return element;\n",
              "}\n",
              "\n",
              "// Max number of bytes which will be uploaded at a time.\n",
              "const MAX_PAYLOAD_SIZE = 100 * 1024;\n",
              "\n",
              "function _uploadFiles(inputId, outputId) {\n",
              "  const steps = uploadFilesStep(inputId, outputId);\n",
              "  const outputElement = document.getElementById(outputId);\n",
              "  // Cache steps on the outputElement to make it available for the next call\n",
              "  // to uploadFilesContinue from Python.\n",
              "  outputElement.steps = steps;\n",
              "\n",
              "  return _uploadFilesContinue(outputId);\n",
              "}\n",
              "\n",
              "// This is roughly an async generator (not supported in the browser yet),\n",
              "// where there are multiple asynchronous steps and the Python side is going\n",
              "// to poll for completion of each step.\n",
              "// This uses a Promise to block the python side on completion of each step,\n",
              "// then passes the result of the previous step as the input to the next step.\n",
              "function _uploadFilesContinue(outputId) {\n",
              "  const outputElement = document.getElementById(outputId);\n",
              "  const steps = outputElement.steps;\n",
              "\n",
              "  const next = steps.next(outputElement.lastPromiseValue);\n",
              "  return Promise.resolve(next.value.promise).then((value) => {\n",
              "    // Cache the last promise value to make it available to the next\n",
              "    // step of the generator.\n",
              "    outputElement.lastPromiseValue = value;\n",
              "    return next.value.response;\n",
              "  });\n",
              "}\n",
              "\n",
              "/**\n",
              " * Generator function which is called between each async step of the upload\n",
              " * process.\n",
              " * @param {string} inputId Element ID of the input file picker element.\n",
              " * @param {string} outputId Element ID of the output display.\n",
              " * @return {!Iterable<!Object>} Iterable of next steps.\n",
              " */\n",
              "function* uploadFilesStep(inputId, outputId) {\n",
              "  const inputElement = document.getElementById(inputId);\n",
              "  inputElement.disabled = false;\n",
              "\n",
              "  const outputElement = document.getElementById(outputId);\n",
              "  outputElement.innerHTML = '';\n",
              "\n",
              "  const pickedPromise = new Promise((resolve) => {\n",
              "    inputElement.addEventListener('change', (e) => {\n",
              "      resolve(e.target.files);\n",
              "    });\n",
              "  });\n",
              "\n",
              "  const cancel = document.createElement('button');\n",
              "  inputElement.parentElement.appendChild(cancel);\n",
              "  cancel.textContent = 'Cancel upload';\n",
              "  const cancelPromise = new Promise((resolve) => {\n",
              "    cancel.onclick = () => {\n",
              "      resolve(null);\n",
              "    };\n",
              "  });\n",
              "\n",
              "  // Wait for the user to pick the files.\n",
              "  const files = yield {\n",
              "    promise: Promise.race([pickedPromise, cancelPromise]),\n",
              "    response: {\n",
              "      action: 'starting',\n",
              "    }\n",
              "  };\n",
              "\n",
              "  cancel.remove();\n",
              "\n",
              "  // Disable the input element since further picks are not allowed.\n",
              "  inputElement.disabled = true;\n",
              "\n",
              "  if (!files) {\n",
              "    return {\n",
              "      response: {\n",
              "        action: 'complete',\n",
              "      }\n",
              "    };\n",
              "  }\n",
              "\n",
              "  for (const file of files) {\n",
              "    const li = document.createElement('li');\n",
              "    li.append(span(file.name, {fontWeight: 'bold'}));\n",
              "    li.append(span(\n",
              "        `(${file.type || 'n/a'}) - ${file.size} bytes, ` +\n",
              "        `last modified: ${\n",
              "            file.lastModifiedDate ? file.lastModifiedDate.toLocaleDateString() :\n",
              "                                    'n/a'} - `));\n",
              "    const percent = span('0% done');\n",
              "    li.appendChild(percent);\n",
              "\n",
              "    outputElement.appendChild(li);\n",
              "\n",
              "    const fileDataPromise = new Promise((resolve) => {\n",
              "      const reader = new FileReader();\n",
              "      reader.onload = (e) => {\n",
              "        resolve(e.target.result);\n",
              "      };\n",
              "      reader.readAsArrayBuffer(file);\n",
              "    });\n",
              "    // Wait for the data to be ready.\n",
              "    let fileData = yield {\n",
              "      promise: fileDataPromise,\n",
              "      response: {\n",
              "        action: 'continue',\n",
              "      }\n",
              "    };\n",
              "\n",
              "    // Use a chunked sending to avoid message size limits. See b/62115660.\n",
              "    let position = 0;\n",
              "    do {\n",
              "      const length = Math.min(fileData.byteLength - position, MAX_PAYLOAD_SIZE);\n",
              "      const chunk = new Uint8Array(fileData, position, length);\n",
              "      position += length;\n",
              "\n",
              "      const base64 = btoa(String.fromCharCode.apply(null, chunk));\n",
              "      yield {\n",
              "        response: {\n",
              "          action: 'append',\n",
              "          file: file.name,\n",
              "          data: base64,\n",
              "        },\n",
              "      };\n",
              "\n",
              "      let percentDone = fileData.byteLength === 0 ?\n",
              "          100 :\n",
              "          Math.round((position / fileData.byteLength) * 100);\n",
              "      percent.textContent = `${percentDone}% done`;\n",
              "\n",
              "    } while (position < fileData.byteLength);\n",
              "  }\n",
              "\n",
              "  // All done.\n",
              "  yield {\n",
              "    response: {\n",
              "      action: 'complete',\n",
              "    }\n",
              "  };\n",
              "}\n",
              "\n",
              "scope.google = scope.google || {};\n",
              "scope.google.colab = scope.google.colab || {};\n",
              "scope.google.colab._files = {\n",
              "  _uploadFiles,\n",
              "  _uploadFilesContinue,\n",
              "};\n",
              "})(self);\n",
              "</script> "
            ]
          },
          "metadata": {}
        },
        {
          "output_type": "stream",
          "name": "stdout",
          "text": [
            "Saving HistoricalPrices.csv to HistoricalPrices.csv\n",
            "Data from CSV File:\n",
            "        Date     Open     High      Low    Close\n",
            "0   08/07/24  2088.11  2094.80  2033.96  2035.11\n",
            "1   08/06/24  2045.20  2087.04  2035.52  2064.30\n",
            "2   08/05/24  2021.86  2061.74  1993.27  2039.16\n",
            "3   08/02/24  2127.25  2127.25  2090.84  2109.31\n",
            "4   08/01/24  2253.49  2262.73  2171.05  2186.16\n",
            "..       ...      ...      ...      ...      ...\n",
            "56  05/16/24  2107.09  2107.36  2095.82  2096.25\n",
            "57  05/15/24  2105.42  2112.32  2095.43  2109.46\n",
            "58  05/14/24  2078.74  2088.36  2076.03  2085.69\n",
            "59  05/13/24  2072.14  2081.45  2062.12  2062.12\n",
            "60  05/10/24  2079.95  2082.04  2054.88  2059.78\n",
            "\n",
            "[61 rows x 5 columns]\n"
          ]
        }
      ],
      "source": [
        "from google.colab import files\n",
        "uploaded = files.upload()\n",
        "\n",
        "# After uploading, you should see the file listed\n",
        "import io\n",
        "import pandas as pd\n",
        "\n",
        "# Read the uploaded CSV file\n",
        "df_csv = pd.read_csv(io.BytesIO(uploaded['HistoricalPrices.csv']))\n",
        "print(\"Data from CSV File:\")\n",
        "print(df_csv)\n",
        "\n"
      ]
    }
  ],
  "metadata": {
    "colab": {
      "provenance": []
    },
    "kernelspec": {
      "display_name": "Python 3",
      "name": "python3"
    },
    "language_info": {
      "name": "python"
    }
  },
  "nbformat": 4,
  "nbformat_minor": 0
}